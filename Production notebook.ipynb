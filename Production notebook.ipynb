{
 "cells": [
  {
   "cell_type": "markdown",
   "id": "716c53a1-66c4-4739-ae15-a47caa020740",
   "metadata": {},
   "source": [
    "# Production Notebook"
   ]
  },
  {
   "cell_type": "code",
   "execution_count": 24,
   "id": "38a00aed-51a4-4b64-9cc6-78501cf15b14",
   "metadata": {},
   "outputs": [],
   "source": [
    "import pandas as pd\n",
    "import numpy as np\n",
    "from sklearn.compose import ColumnTransformer\n",
    "from sklearn.preprocessing import StandardScaler\n",
    "from sklearn.preprocessing import OneHotEncoder\n",
    "from sklearn.cluster import KMeans\n",
    "import joblib"
   ]
  },
  {
   "cell_type": "code",
   "execution_count": 26,
   "id": "3152f6a9-06dc-4b40-8fa0-ce8c900e89c9",
   "metadata": {},
   "outputs": [],
   "source": [
    "import warnings\n",
    "warnings.filterwarnings(\"ignore\")"
   ]
  },
  {
   "cell_type": "code",
   "execution_count": 34,
   "id": "e626aacd-b9a3-4ff8-aa79-976c21b6ed5b",
   "metadata": {},
   "outputs": [
    {
     "name": "stdout",
     "output_type": "stream",
     "text": [
      "              precision    recall  f1-score   support\n",
      "\n",
      "           0       0.76      0.64      0.70    319539\n",
      "           1       0.50      0.65      0.57    180461\n",
      "\n",
      "    accuracy                           0.64    500000\n",
      "   macro avg       0.63      0.64      0.63    500000\n",
      "weighted avg       0.67      0.64      0.65    500000\n",
      "\n"
     ]
    }
   ],
   "source": [
    "from sklearn.metrics import classification_report\n",
    "\n",
    "def production(X_path, y_path):\n",
    "    # load data\n",
    "    df_X = pd.read_csv(X_path)\n",
    "    # make the changes if required \n",
    "    # -------------------------\n",
    "    df_X['Distance'].fillna(df_X['Distance'].mode()[0], inplace=True)\n",
    "    df_X['SelfReview'].fillna(df_X['SelfReview'].median(), inplace=True)\n",
    "    df_X['SupervisorReview'].fillna(df_X['SupervisorReview'].median(), inplace=True)\n",
    "    df_X['Salary'] = df_X['Salary'].str.replace('K', '000', regex=True).astype(int)\n",
    "    df_X['PreviousSalary'] = df_X['PreviousSalary'].str.replace('K', '000', regex=True).astype(int)\n",
    "    df_X['WorkloadStress'] = (df_X['ProjectComplexity'] * df_X['NumOfProjects']) / df_X['TeamSize']\n",
    "    df_X['CareerGrowth'] = df_X['Certifications'] + df_X['SkillDevelopmentCourses'] - df_X['YearsWorked']/5\n",
    "    df_X['RewardDisparity'] = (df_X['WorkSatisfactionScore'] - df_X['Salary'].rank(pct=True))\n",
    "\n",
    "    # -------------------------\n",
    "\n",
    "\n",
    "    model = joblib.load('final_model.pkl')\n",
    "    pred = model.predict(df_X)\n",
    "\n",
    "    df_y = pd.read_csv(y_path)['Left']\n",
    "    print(classification_report(df_y, pred))\n",
    "    \n",
    "\n",
    "production( \n",
    "    X_path='https://raw.githubusercontent.com/msaricaumbc/DS_data/master/ds602/final/employee_departure_dataset_X.csv',\n",
    "    y_path='https://raw.githubusercontent.com/msaricaumbc/DS_data/master/ds602/final/employee_departure_dataset_y.csv'\n",
    ")\n",
    "    "
   ]
  },
  {
   "cell_type": "code",
   "execution_count": null,
   "id": "99e4356a-1a7d-4e76-91e6-b74f161fd798",
   "metadata": {},
   "outputs": [],
   "source": []
  }
 ],
 "metadata": {
  "kernelspec": {
   "display_name": "Python 3 (ipykernel)",
   "language": "python",
   "name": "python3"
  },
  "language_info": {
   "codemirror_mode": {
    "name": "ipython",
    "version": 3
   },
   "file_extension": ".py",
   "mimetype": "text/x-python",
   "name": "python",
   "nbconvert_exporter": "python",
   "pygments_lexer": "ipython3",
   "version": "3.12.3"
  }
 },
 "nbformat": 4,
 "nbformat_minor": 5
}
